{
 "cells": [
  {
   "cell_type": "code",
   "execution_count": 1,
   "metadata": {},
   "outputs": [
    {
     "name": "stderr",
     "output_type": "stream",
     "text": [
      "/anaconda3/lib/python3.6/importlib/_bootstrap.py:219: RuntimeWarning: numpy.dtype size changed, may indicate binary incompatibility. Expected 96, got 88\n",
      "  return f(*args, **kwds)\n",
      "/anaconda3/lib/python3.6/importlib/_bootstrap.py:219: RuntimeWarning: numpy.dtype size changed, may indicate binary incompatibility. Expected 96, got 88\n",
      "  return f(*args, **kwds)\n",
      "/anaconda3/lib/python3.6/importlib/_bootstrap.py:219: RuntimeWarning: numpy.dtype size changed, may indicate binary incompatibility. Expected 96, got 88\n",
      "  return f(*args, **kwds)\n"
     ]
    }
   ],
   "source": [
    "import re\n",
    "import nltk"
   ]
  },
  {
   "cell_type": "code",
   "execution_count": 2,
   "metadata": {},
   "outputs": [],
   "source": [
    "from konlpy.tag import Kkma"
   ]
  },
  {
   "cell_type": "code",
   "execution_count": 3,
   "metadata": {},
   "outputs": [],
   "source": [
    "kkma = Kkma()"
   ]
  },
  {
   "cell_type": "code",
   "execution_count": 4,
   "metadata": {},
   "outputs": [],
   "source": [
    "with open('article.txt', 'r') as fp:\n",
    "    article = fp.read()\n",
    "    sentences = []\n",
    "    for sentence in nltk.sent_tokenize(article):\n",
    "        sentences.append(sentence)"
   ]
  },
  {
   "cell_type": "code",
   "execution_count": 5,
   "metadata": {},
   "outputs": [
    {
     "data": {
      "text/plain": [
       "['구글이 코드명 ‘드래곤플라이(Dragonfly)’라고 불리는 중국 정부 검열 정책을 수용한 안드로이드 검색 앱을 개발해 중국 정부 인사에게 시연을 마치고 6~9개월 내로 현지에 출시하기 위해 승인을 기다리고 있다는 내용의 폭로 기사가 디인터셉트를 통해 나왔다.',\n",
       " '그리고 하루가 지난 2일(현지시각) 디인포메이션은 구글이 중국 정부 검열 정책을 수용한 뉴스 앱을 개발 중이고 앞서 언급한 검색 앱보다 먼저 출시할 예정이라고 보도했다.',\n",
       " '참고 링크 :\\xa0구글, 중국 정부 검열에 굴복한 검색 앱 곧 출시\\n그레이트 파이어월(Great Firewall)이라 부르는 중국의 강력한 방화벽이 차단하고 있는 콘텐츠를 걸러낸 결과만 보여주게 된다.',\n",
       " '인권, 민주주의, 종교, 반정부 등과 관련된 콘텐츠를 배제한 뉴스만 볼 수 있다는 뜻이다.',\n",
       " '이 앱은 드래곤플라이 프로제트의 일환으로 2017년부터 개발이 시작됐고 올해 말 현지 출시를 목표로 하고 있었다.',\n",
       " '하지만 최근 미국, 중국 사이의 무역 전쟁으로 중국 정부의 승인이 늦어지면서 출시가 내년으로 연기될 가능성이 있다고 한다.',\n",
       " '어제 드래곤플라이 프로젝트에 대한 보도가 나온 후 많은 우려와 논란이 벌어졌다.',\n",
       " '블룸버그의 보도에 따르면 구글 내부에서도 심상치 않은 분위기가 감지되고 있다.',\n",
       " '극소수만 공유하고 있던 드래곤플라이 프로젝트에 대한 내용을 투명하게 공개할 것을 요구하는 의견이 내부 게시판에 올라왔고 모든 정보를 제한 없이 공유한다는 구글의 설립 취지를 훼손하는 것이라는 비판의 목소리도 나오고 있다.',\n",
       " '한쪽에서는 조심스럽게 찬성하는 의견도 있다.',\n",
       " '구글은 2009년 중국에서 유튜브 서비스를 중단했다.',\n",
       " '2010년 중국 인권 운동가 지메일을 중국 정부가 해킹하는 사건이 발생한 후 모든 서비스를 중단하고 중국 시장에서 철수했다.',\n",
       " '당시 세르게이 브린 구글 공동 창업자는 중국의 검열은 ’전체주의의 상징’이라며 강하게 비난했다.',\n",
       " '현재 구글 CEO인 순다 피차이는 조금 다른 입장을 취하고 있다.',\n",
       " '중국을 14억 인구의 잠재력이 강력한 시장으로 보고 있다.',\n",
       " '베이징 인공지능 연구소 설립, 징동 닷컴에 대한 5억 5,000만 달러(약 6,080억원) 투자, 텐센트와 특허 크로스 라이선스 체결 등 중국에 대한 러브콜을 계속해서 보내고 있다.',\n",
       " '구글이 떠난 후 중국의 IT, 인터넷 시장은 급성장했다.',\n",
       " '강력한 내수 시장에 힘입어 화웨이, 샤오미, 텐센트, 바이두와 같은 글로벌 규모의 IT 업체가 줄줄이 등장했고 인터넷 사용자는 9억 명에 육박한다.',\n",
       " '현재 중국 검색 시장은 중국의 구글이라 불리는 바이두가 장악하고 있다.',\n",
       " '현지 업체가 자리를 잡은 상태에서 구글의 재진입이 성공으로 이어지지 못할 수도 있다는 우려도 나오고 있다.']"
      ]
     },
     "execution_count": 5,
     "metadata": {},
     "output_type": "execute_result"
    }
   ],
   "source": [
    "sentences"
   ]
  },
  {
   "cell_type": "code",
   "execution_count": 7,
   "metadata": {},
   "outputs": [],
   "source": [
    "from collections import Counter\n",
    "\n",
    "bow1 = Counter(kkma.nouns(sentences[0]))\n",
    "bow2 = Counter(kkma.nouns(sentences[2]))"
   ]
  },
  {
   "cell_type": "code",
   "execution_count": 8,
   "metadata": {},
   "outputs": [
    {
     "name": "stdout",
     "output_type": "stream",
     "text": [
      "Counter({'구': 1, '구글': 1, '글': 1, '코드': 1, '코드명': 1, '명': 1, '드래곤': 1, '드래곤플라이': 1, '플라이': 1, '중국': 1, '정부': 1, '검열': 1, '정책': 1, '수용': 1, '안': 1, '안드로이드': 1, '드로': 1, '이드': 1, '검색': 1, '앱': 1, '개발': 1, '인사': 1, '시연': 1, '6': 1, '9': 1, '9개월': 1, '개월': 1, '내': 1, '현지': 1, '출시': 1, '승인': 1, '내용': 1, '폭로': 1, '기사': 1, '디': 1, '디인터셉트': 1, '인터셉트': 1})\n"
     ]
    }
   ],
   "source": [
    "print(bow1)"
   ]
  },
  {
   "cell_type": "code",
   "execution_count": 9,
   "metadata": {},
   "outputs": [
    {
     "name": "stdout",
     "output_type": "stream",
     "text": [
      "Counter({'참고': 1, '링크': 1, '구': 1, '구글': 1, '글': 1, '중국': 1, '정부': 1, '검열': 1, '굴복': 1, '검색': 1, '앱': 1, '출시': 1, '그레이트': 1, '파이어': 1, '파이어월': 1, '월': 1, '방화벽': 1, '차단': 1, '콘텐츠': 1, '결과': 1})\n"
     ]
    }
   ],
   "source": [
    "print(bow2)"
   ]
  },
  {
   "cell_type": "code",
   "execution_count": 10,
   "metadata": {},
   "outputs": [],
   "source": [
    "j_index = sum((bow1&bow2).values())/sum((bow1|bow2).values())"
   ]
  },
  {
   "cell_type": "code",
   "execution_count": 11,
   "metadata": {},
   "outputs": [
    {
     "data": {
      "text/plain": [
       "0.1875"
      ]
     },
     "execution_count": 11,
     "metadata": {},
     "output_type": "execute_result"
    }
   ],
   "source": [
    "j_index"
   ]
  },
  {
   "cell_type": "code",
   "execution_count": 13,
   "metadata": {},
   "outputs": [],
   "source": [
    "import networkx"
   ]
  },
  {
   "cell_type": "code",
   "execution_count": 18,
   "metadata": {},
   "outputs": [],
   "source": [
    "def getSenteces(text):\n",
    "    sentences = []\n",
    "    for sentence in nltk.sent_tokenize(article):\n",
    "        sentences.append(sentence)\n",
    "    return sentences"
   ]
  },
  {
   "cell_type": "code",
   "execution_count": 30,
   "metadata": {},
   "outputs": [],
   "source": [
    "def JaccardIndex(sentence1, sentence2):\n",
    "    from collections import Counter\n",
    "    from konlpy.tag import Kkma\n",
    "    \n",
    "    kkma = Kkma()\n",
    "    bow1 = Counter(kkma.nouns(sentence1))\n",
    "    bow2 = Counter(kkma.nouns(sentence2))\n",
    "    \n",
    "    p = sum((bow1&bow2).values())\n",
    "    q = sum((bow1|bow2).values())\n",
    "    \n",
    "    return p / q if q else 0"
   ]
  },
  {
   "cell_type": "code",
   "execution_count": 31,
   "metadata": {},
   "outputs": [],
   "source": [
    "def buildGraph(sentences):\n",
    "    import itertools    \n",
    "    graph = networkx.Graph()\n",
    "    graph.add_nodes_from(sentences)\n",
    "    pairs = list(itertools.combinations(sentences, 2))\n",
    "    for eins, zwei in pairs:\n",
    "        graph.add_edge(eins, zwei, weight=JaccardIndex(eins, zwei))\n",
    "    return graph"
   ]
  },
  {
   "cell_type": "code",
   "execution_count": 32,
   "metadata": {},
   "outputs": [],
   "source": [
    "graph = buildGraph(sentences)"
   ]
  },
  {
   "cell_type": "code",
   "execution_count": 35,
   "metadata": {},
   "outputs": [],
   "source": [
    "pagerank = networkx.pagerank(graph, weight='weight')"
   ]
  },
  {
   "cell_type": "code",
   "execution_count": 36,
   "metadata": {},
   "outputs": [],
   "source": [
    "reorded = sorted(pagerank, key=pagerank.get, reverse=True)"
   ]
  },
  {
   "cell_type": "code",
   "execution_count": 40,
   "metadata": {
    "scrolled": true
   },
   "outputs": [
    {
     "data": {
      "text/plain": [
       "'구글이 떠난 후 중국의 IT, 인터넷 시장은 급성장했다.'"
      ]
     },
     "execution_count": 40,
     "metadata": {},
     "output_type": "execute_result"
    }
   ],
   "source": [
    "reorded[0]"
   ]
  },
  {
   "cell_type": "code",
   "execution_count": 41,
   "metadata": {},
   "outputs": [
    {
     "data": {
      "text/plain": [
       "'현재 중국 검색 시장은 중국의 구글이라 불리는 바이두가 장악하고 있다.'"
      ]
     },
     "execution_count": 41,
     "metadata": {},
     "output_type": "execute_result"
    }
   ],
   "source": [
    "reorded[1]"
   ]
  },
  {
   "cell_type": "code",
   "execution_count": 42,
   "metadata": {},
   "outputs": [
    {
     "data": {
      "text/plain": [
       "'그리고 하루가 지난 2일(현지시각) 디인포메이션은 구글이 중국 정부 검열 정책을 수용한 뉴스 앱을 개발 중이고 앞서 언급한 검색 앱보다 먼저 출시할 예정이라고 보도했다.'"
      ]
     },
     "execution_count": 42,
     "metadata": {},
     "output_type": "execute_result"
    }
   ],
   "source": [
    "reorded[2]"
   ]
  },
  {
   "cell_type": "code",
   "execution_count": 70,
   "metadata": {},
   "outputs": [],
   "source": [
    "def keword(text):\n",
    "    from konlpy.tag import Kkma\n",
    "    from konlpy.tag import Twitter\n",
    "    \n",
    "    tempList = list()\n",
    "    \n",
    "    kkma = Kkma()\n",
    "    twitter = Twitter()\n",
    "    \n",
    "    for i in text:\n",
    "        temp = Counter(kkma.nouns(i))\n",
    "        tempList.append(temp)\n",
    "    \n",
    "    result = tempList[0]\n",
    "    for j in range(len(tempList[1:])):\n",
    "#         print(tempList[j])\n",
    "        result += tempList[j]\n",
    "    return result"
   ]
  },
  {
   "cell_type": "code",
   "execution_count": 71,
   "metadata": {},
   "outputs": [],
   "source": [
    "result = keword(sentences)"
   ]
  },
  {
   "cell_type": "code",
   "execution_count": 75,
   "metadata": {},
   "outputs": [
    {
     "data": {
      "text/plain": [
       "[('중국', 12), ('구', 11), ('구글', 11), ('글', 11), ('정부', 6)]"
      ]
     },
     "execution_count": 75,
     "metadata": {},
     "output_type": "execute_result"
    }
   ],
   "source": [
    "result.most_common(n=5)"
   ]
  },
  {
   "cell_type": "code",
   "execution_count": null,
   "metadata": {},
   "outputs": [],
   "source": []
  }
 ],
 "metadata": {
  "kernelspec": {
   "display_name": "Python 3",
   "language": "python",
   "name": "python3"
  },
  "language_info": {
   "codemirror_mode": {
    "name": "ipython",
    "version": 3
   },
   "file_extension": ".py",
   "mimetype": "text/x-python",
   "name": "python",
   "nbconvert_exporter": "python",
   "pygments_lexer": "ipython3",
   "version": "3.6.5"
  }
 },
 "nbformat": 4,
 "nbformat_minor": 2
}
